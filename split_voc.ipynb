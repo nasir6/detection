{
 "cells": [
  {
   "cell_type": "code",
   "execution_count": 2,
   "metadata": {},
   "outputs": [],
   "source": [
    "import random\n",
    "import numpy as np\n",
    "import os"
   ]
  },
  {
   "cell_type": "markdown",
   "metadata": {},
   "source": [
    "The files train.txt, val.txt, trainval.txt and test.txt list the im-\n",
    "age identifiers for the corresponding image sets (training, validation, train-\n",
    "ing+validation and testing)\n",
    "\n",
    "\n",
    "-1: Negative: The image contains no objects of the class of interest. A classifier should give a ‘negative’ output.\n",
    "\n",
    "\n",
    "1: Positive: The image contains at least one object of the class of interest.\n",
    "A classifier should give a ‘positive’ output.\n",
    "\n",
    "\n",
    "0: “Difficult”: The image contains only objects of the class of interest marked\n",
    "as ‘difficult’."
   ]
  },
  {
   "cell_type": "code",
   "execution_count": 4,
   "metadata": {},
   "outputs": [],
   "source": [
    "CLASSES = ['aeroplane', 'bicycle', 'bird', 'boat', 'bottle', 'bus',   'car',\n",
    "           'cat', 'chair', 'cow', 'diningtable', 'dog', 'horse','motorbike', \n",
    "           'person', 'pottedplant', 'sheep', 'sofa', 'train',   'tvmonitor',\n",
    "          ]\n",
    "\n",
    "subset_postfix = 'subset'\n",
    "dir_path = 'data/VOCdevkit/VOC2012/ImageSets/Main'\n",
    "unlabeled = np.array([])\n",
    "initial_labels = [x.strip('\\n') for x in open(f'{dir_path}/train_initial_subset.txt', 'r').readlines()]\n",
    "labeled = np.array(initial_labels)\n",
    "\n",
    "split_ratio = 10\n",
    "for c in CLASSES:\n",
    "#     for k in split_ratio:\n",
    "    f = open(f'{dir_path}/{c}_trainval.txt', 'r')\n",
    "    content = f.readlines()\n",
    "    x = [item.split(' ')[0] for item in content if item.split(' ')[-1] == '1\\n']\n",
    "    x = list(set(x) - set(initial_labels))\n",
    "    f.close()\n",
    "    total = len(x)\n",
    "    take = int(split_ratio*total/100)\n",
    "    \n",
    "    labeled_indexes = random.sample(range(total), take)\n",
    "    unLabeled_indexes = list(set(range(total)) - set(labeled_indexes))\n",
    "    \n",
    "    labeled = np.concatenate((labeled, np.array(x)[labeled_indexes]), axis=0)\n",
    "    unlabeled = np.concatenate((unlabeled, np.array(x)[unLabeled_indexes]), axis=0)\n",
    "    \n",
    "unlabeled = \"\".join(map(str, [f\"{x}\\n\" for x in np.unique(unlabeled)]))\n",
    "labeled = \"\".join(map(str,[f\"{x}\\n\" for x in np.unique(labeled)]))"
   ]
  },
  {
   "cell_type": "code",
   "execution_count": 38,
   "metadata": {},
   "outputs": [],
   "source": [
    "\n",
    "filePath = f'{dir_path}/train_labeled.txt'\n",
    "if os.path.exists(filePath):\n",
    "    os.remove(filePath)\n",
    "with open(filePath, 'w') as fw:\n",
    "    fw.write(labeled)\n",
    "    fw.close()\n",
    "\n",
    "\n",
    "filePath = f'{dir_path}/train_unlabeled.txt'\n",
    "if os.path.exists(filePath):\n",
    "    os.remove(filePath)\n",
    "with open(filePath, 'w') as fw:\n",
    "    fw.write(unlabeled)\n",
    "    fw.close()\n",
    "    "
   ]
  },
  {
   "cell_type": "code",
   "execution_count": 8,
   "metadata": {},
   "outputs": [],
   "source": [
    "train = open(f'{dir_path}/train_unlabeled.txt', 'r').readlines()"
   ]
  },
  {
   "cell_type": "code",
   "execution_count": 9,
   "metadata": {},
   "outputs": [
    {
     "data": {
      "text/plain": [
       "9290"
      ]
     },
     "execution_count": 9,
     "metadata": {},
     "output_type": "execute_result"
    }
   ],
   "source": [
    "len(train)"
   ]
  },
  {
   "cell_type": "code",
   "execution_count": 22,
   "metadata": {},
   "outputs": [],
   "source": [
    "subset = open(f'{dir_path}/train_set.txt', 'r').readlines()"
   ]
  },
  {
   "cell_type": "code",
   "execution_count": 23,
   "metadata": {},
   "outputs": [],
   "source": [
    "unLabeled = list(set(train) - set(subset))\n"
   ]
  },
  {
   "cell_type": "code",
   "execution_count": 6,
   "metadata": {},
   "outputs": [],
   "source": [
    "train = \"\".join(map(str, train))\n"
   ]
  },
  {
   "cell_type": "code",
   "execution_count": 7,
   "metadata": {},
   "outputs": [],
   "source": [
    "\n",
    "filePath = f'{dir_path}/train_set.txt'\n",
    "if os.path.exists(filePath):\n",
    "    os.remove(filePath)\n",
    "with open(filePath, 'w') as fw:\n",
    "    fw.write(train)\n",
    "    fw.close()"
   ]
  },
  {
   "cell_type": "code",
   "execution_count": null,
   "metadata": {},
   "outputs": [],
   "source": []
  }
 ],
 "metadata": {
  "kernelspec": {
   "display_name": "Python 3",
   "language": "python",
   "name": "python3"
  },
  "language_info": {
   "codemirror_mode": {
    "name": "ipython",
    "version": 3
   },
   "file_extension": ".py",
   "mimetype": "text/x-python",
   "name": "python",
   "nbconvert_exporter": "python",
   "pygments_lexer": "ipython3",
   "version": "3.7.3"
  }
 },
 "nbformat": 4,
 "nbformat_minor": 2
}
