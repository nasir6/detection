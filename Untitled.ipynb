{
 "cells": [
  {
   "cell_type": "code",
   "execution_count": 6,
   "metadata": {},
   "outputs": [],
   "source": [
    "import numpy as np\n",
    "from pycocotools.coco import COCO\n",
    "\n",
    "from mmdet.datasets.custom import CustomDataset\n",
    "from mmdet.datasets.registry import DATASETS\n",
    "\n",
    "import os.path as osp\n",
    "import xml.etree.ElementTree as ET\n",
    "import mmcv\n",
    "import os"
   ]
  },
  {
   "cell_type": "code",
   "execution_count": 7,
   "metadata": {},
   "outputs": [],
   "source": [
    "import glob"
   ]
  },
  {
   "cell_type": "code",
   "execution_count": 8,
   "metadata": {},
   "outputs": [
    {
     "data": {
      "text/plain": [
       "43810"
      ]
     },
     "execution_count": 8,
     "metadata": {},
     "output_type": "execute_result"
    }
   ],
   "source": [
    "data_dir = \"data/SAR-Ship-Dataset/\"\n",
    "paths = glob.glob(f'{data_dir}/JPEGImages/*.jpg')\n",
    "\n",
    "ids = [os.path.splitext(os.path.basename(x))[0] for x in paths]\n",
    "np.save('data/SAR-Ship-Dataset/train_anno.npy', ids[:40000])\n",
    "np.save('data/SAR-Ship-Dataset/test_anno.npy', ids[40000:])\n",
    "len(ids)"
   ]
  },
  {
   "cell_type": "code",
   "execution_count": 9,
   "metadata": {},
   "outputs": [
    {
     "name": "stdout",
     "output_type": "stream",
     "text": [
      "Thu Jul 18 07:20:19 2019       \n",
      "+-----------------------------------------------------------------------------+\n",
      "| NVIDIA-SMI 384.145                Driver Version: 384.145                   |\n",
      "|-------------------------------+----------------------+----------------------+\n",
      "| GPU  Name        Persistence-M| Bus-Id        Disp.A | Volatile Uncorr. ECC |\n",
      "| Fan  Temp  Perf  Pwr:Usage/Cap|         Memory-Usage | GPU-Util  Compute M. |\n",
      "|===============================+======================+======================|\n",
      "|   0  Tesla V100-SXM2...  Off  | 00000000:06:00.0 Off |                    0 |\n",
      "| N/A   32C    P0    67W / 300W |  21234MiB / 32502MiB |    100%      Default |\n",
      "+-------------------------------+----------------------+----------------------+\n",
      "|   1  Tesla V100-SXM2...  Off  | 00000000:07:00.0 Off |                    0 |\n",
      "| N/A   40C    P0   120W / 300W |  19702MiB / 32502MiB |    100%      Default |\n",
      "+-------------------------------+----------------------+----------------------+\n",
      "|   2  Tesla V100-SXM2...  Off  | 00000000:0A:00.0 Off |                    0 |\n",
      "| N/A   41C    P0   110W / 300W |  19706MiB / 32502MiB |    100%      Default |\n",
      "+-------------------------------+----------------------+----------------------+\n",
      "|   3  Tesla V100-SXM2...  Off  | 00000000:0B:00.0 Off |                    0 |\n",
      "| N/A   38C    P0   116W / 300W |  19718MiB / 32502MiB |    100%      Default |\n",
      "+-------------------------------+----------------------+----------------------+\n",
      "|   4  Tesla V100-SXM2...  Off  | 00000000:85:00.0 Off |                    0 |\n",
      "| N/A   43C    P0   115W / 300W |  19718MiB / 32502MiB |    100%      Default |\n",
      "+-------------------------------+----------------------+----------------------+\n",
      "|   5  Tesla V100-SXM2...  Off  | 00000000:86:00.0 Off |                    0 |\n",
      "| N/A   41C    P0   116W / 300W |  19692MiB / 32502MiB |    100%      Default |\n",
      "+-------------------------------+----------------------+----------------------+\n",
      "|   6  Tesla V100-SXM2...  Off  | 00000000:89:00.0 Off |                    0 |\n",
      "| N/A   44C    P0   131W / 300W |  19692MiB / 32502MiB |    100%      Default |\n",
      "+-------------------------------+----------------------+----------------------+\n",
      "|   7  Tesla V100-SXM2...  Off  | 00000000:8A:00.0 Off |                    0 |\n",
      "| N/A   39C    P0   112W / 300W |  19692MiB / 32502MiB |    100%      Default |\n",
      "+-------------------------------+----------------------+----------------------+\n",
      "                                                                               \n",
      "+-----------------------------------------------------------------------------+\n",
      "| Processes:                                                       GPU Memory |\n",
      "|  GPU       PID   Type   Process name                             Usage      |\n",
      "|=============================================================================|\n",
      "+-----------------------------------------------------------------------------+\n"
     ]
    }
   ],
   "source": [
    "!nvidia-smi"
   ]
  },
  {
   "cell_type": "code",
   "execution_count": 4,
   "metadata": {},
   "outputs": [
    {
     "ename": "ImportError",
     "evalue": "cannot import name 'set_randoma_seed' from 'mmdet.apis' (/home/mmdetection/mmdet/apis/__init__.py)",
     "output_type": "error",
     "traceback": [
      "\u001b[0;31m---------------------------------------------------------------------------\u001b[0m",
      "\u001b[0;31mImportError\u001b[0m                               Traceback (most recent call last)",
      "\u001b[0;32m<ipython-input-4-f2db404e2493>\u001b[0m in \u001b[0;36m<module>\u001b[0;34m\u001b[0m\n\u001b[1;32m      7\u001b[0m \u001b[0;32mfrom\u001b[0m \u001b[0mmmdet\u001b[0m \u001b[0;32mimport\u001b[0m \u001b[0m__version__\u001b[0m\u001b[0;34m\u001b[0m\u001b[0;34m\u001b[0m\u001b[0m\n\u001b[1;32m      8\u001b[0m \u001b[0;32mfrom\u001b[0m \u001b[0mmmdet\u001b[0m\u001b[0;34m.\u001b[0m\u001b[0mdatasets\u001b[0m \u001b[0;32mimport\u001b[0m \u001b[0mbuild_dataset\u001b[0m\u001b[0;34m\u001b[0m\u001b[0;34m\u001b[0m\u001b[0m\n\u001b[0;32m----> 9\u001b[0;31m from mmdet.apis import (train_detector, init_dist, get_root_logger,\n\u001b[0m\u001b[1;32m     10\u001b[0m                         set_randoma_seed)\n\u001b[1;32m     11\u001b[0m \u001b[0;32mfrom\u001b[0m \u001b[0mmmdet\u001b[0m\u001b[0;34m.\u001b[0m\u001b[0mmodels\u001b[0m \u001b[0;32mimport\u001b[0m \u001b[0mbuild_detector\u001b[0m\u001b[0;34m\u001b[0m\u001b[0;34m\u001b[0m\u001b[0m\n",
      "\u001b[0;31mImportError\u001b[0m: cannot import name 'set_randoma_seed' from 'mmdet.apis' (/home/mmdetection/mmdet/apis/__init__.py)"
     ]
    }
   ],
   "source": [
    "from __future__ import division\n",
    "\n",
    "import argparse\n",
    "import os\n",
    "from mmcv import Config\n",
    "\n",
    "from mmdet import __version__\n",
    "from mmdet.datasets import build_dataset\n",
    "from mmdet.apis import (train_detector, init_dist, get_root_logger,\n",
    "                        set_randoma_seed)\n",
    "from mmdet.models import build_detector\n",
    "import torch\n",
    "\n"
   ]
  },
  {
   "cell_type": "code",
   "execution_count": 5,
   "metadata": {},
   "outputs": [
    {
     "data": {
      "text/plain": [
       "{'type': 'SARDataset',\n",
       " 'ann_file': 'data/SAR-Ship-Dataset/train_anno.npy',\n",
       " 'img_prefix': 'data/SAR-Ship-Dataset/',\n",
       " 'img_scale': (1333, 800),\n",
       " 'img_norm_cfg': {'mean': [123.675, 116.28, 103.53],\n",
       "  'std': [58.395, 57.12, 57.375],\n",
       "  'to_rgb': True},\n",
       " 'size_divisor': 32,\n",
       " 'flip_ratio': 0.5,\n",
       " 'with_mask': False,\n",
       " 'with_crowd': False,\n",
       " 'with_label': True}"
      ]
     },
     "execution_count": 5,
     "metadata": {},
     "output_type": "execute_result"
    }
   ],
   "source": [
    "cfg = mmcv.Config.fromfile('configs/retinanet_x101_64x4d_fpn_1x.py')\n",
    "cfg.data.train.type = 'SARDataset'\n",
    "cfg.data.train.ann_file = 'data/SAR-Ship-Dataset/train_anno.npy'\n",
    "cfg.data.train.img_prefix = 'data/SAR-Ship-Dataset/'\n",
    "cfg.data.train"
   ]
  },
  {
   "cell_type": "code",
   "execution_count": 6,
   "metadata": {},
   "outputs": [],
   "source": [
    "train_dataset = build_dataset(cfg.data.train)\n"
   ]
  },
  {
   "cell_type": "code",
   "execution_count": 7,
   "metadata": {},
   "outputs": [],
   "source": [
    "a = train_dataset[0]"
   ]
  },
  {
   "cell_type": "code",
   "execution_count": 8,
   "metadata": {},
   "outputs": [
    {
     "data": {
      "text/plain": [
       "<mmdet.datasets.sar.SARDataset at 0x7fc9f4979b70>"
      ]
     },
     "execution_count": 8,
     "metadata": {},
     "output_type": "execute_result"
    }
   ],
   "source": [
    "train_dataset"
   ]
  },
  {
   "cell_type": "code",
   "execution_count": 9,
   "metadata": {},
   "outputs": [
    {
     "data": {
      "text/plain": [
       "{'ship': 1}"
      ]
     },
     "execution_count": 9,
     "metadata": {},
     "output_type": "execute_result"
    }
   ],
   "source": [
    "train_dataset.cat2label"
   ]
  },
  {
   "cell_type": "code",
   "execution_count": 10,
   "metadata": {},
   "outputs": [
    {
     "data": {
      "text/plain": [
       "{'img': DataContainer(tensor([[[-2.0323, -2.0323, -2.0323,  ..., -2.1008, -2.1008, -2.1008],\n",
       "          [-2.0323, -2.0323, -2.0323,  ..., -2.1008, -2.1008, -2.1008],\n",
       "          [-2.0323, -2.0323, -2.0494,  ..., -2.1008, -2.1008, -2.1008],\n",
       "          ...,\n",
       "          [-2.0665, -2.0665, -2.0665,  ..., -2.1179, -2.1179, -2.1179],\n",
       "          [-2.0665, -2.0665, -2.0665,  ..., -2.1179, -2.1179, -2.1179],\n",
       "          [-2.0665, -2.0665, -2.0665,  ..., -2.1179, -2.1179, -2.1179]],\n",
       " \n",
       "         [[-1.9482, -1.9482, -1.9482,  ..., -2.0182, -2.0182, -2.0182],\n",
       "          [-1.9482, -1.9482, -1.9482,  ..., -2.0182, -2.0182, -2.0182],\n",
       "          [-1.9482, -1.9482, -1.9657,  ..., -2.0182, -2.0182, -2.0182],\n",
       "          ...,\n",
       "          [-1.9832, -1.9832, -1.9832,  ..., -2.0357, -2.0357, -2.0357],\n",
       "          [-1.9832, -1.9832, -1.9832,  ..., -2.0357, -2.0357, -2.0357],\n",
       "          [-1.9832, -1.9832, -1.9832,  ..., -2.0357, -2.0357, -2.0357]],\n",
       " \n",
       "         [[-1.7173, -1.7173, -1.7173,  ..., -1.7870, -1.7870, -1.7870],\n",
       "          [-1.7173, -1.7173, -1.7173,  ..., -1.7870, -1.7870, -1.7870],\n",
       "          [-1.7173, -1.7173, -1.7347,  ..., -1.7870, -1.7870, -1.7870],\n",
       "          ...,\n",
       "          [-1.7522, -1.7522, -1.7522,  ..., -1.8044, -1.8044, -1.8044],\n",
       "          [-1.7522, -1.7522, -1.7522,  ..., -1.8044, -1.8044, -1.8044],\n",
       "          [-1.7522, -1.7522, -1.7522,  ..., -1.8044, -1.8044, -1.8044]]])),\n",
       " 'img_meta': DataContainer({'ori_shape': (256, 256, 3), 'img_shape': (800, 800, 3), 'pad_shape': (800, 800, 3), 'scale_factor': 3.125, 'flip': False}),\n",
       " 'gt_bboxes': DataContainer(tensor([[284.3750,  93.7500, 428.1250, 190.6250]])),\n",
       " 'gt_labels': DataContainer(tensor([1]))}"
      ]
     },
     "execution_count": 10,
     "metadata": {},
     "output_type": "execute_result"
    }
   ],
   "source": [
    "a"
   ]
  },
  {
   "cell_type": "code",
   "execution_count": null,
   "metadata": {},
   "outputs": [],
   "source": []
  }
 ],
 "metadata": {
  "kernelspec": {
   "display_name": "Python 3",
   "language": "python",
   "name": "python3"
  },
  "language_info": {
   "codemirror_mode": {
    "name": "ipython",
    "version": 3
   },
   "file_extension": ".py",
   "mimetype": "text/x-python",
   "name": "python",
   "nbconvert_exporter": "python",
   "pygments_lexer": "ipython3",
   "version": "3.7.3"
  }
 },
 "nbformat": 4,
 "nbformat_minor": 2
}
