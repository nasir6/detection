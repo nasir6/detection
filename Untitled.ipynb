{
 "cells": [
  {
   "cell_type": "code",
   "execution_count": 1,
   "metadata": {},
   "outputs": [],
   "source": [
    "import numpy as np\n",
    "from pycocotools.coco import COCO\n",
    "\n",
    "from mmdet.datasets.custom import CustomDataset\n",
    "from mmdet.datasets.registry import DATASETS\n",
    "\n",
    "import os.path as osp\n",
    "import xml.etree.ElementTree as ET\n",
    "import mmcv\n",
    "import os"
   ]
  },
  {
   "cell_type": "code",
   "execution_count": 2,
   "metadata": {},
   "outputs": [],
   "source": [
    "import glob\n",
    "import os"
   ]
  },
  {
   "cell_type": "code",
   "execution_count": 3,
   "metadata": {},
   "outputs": [],
   "source": [
    "# !python tools/train.py configs/pascal_voc/ssd300_voc.py"
   ]
  },
  {
   "cell_type": "code",
   "execution_count": null,
   "metadata": {},
   "outputs": [],
   "source": []
  },
  {
   "cell_type": "code",
   "execution_count": 4,
   "metadata": {},
   "outputs": [],
   "source": [
    "# root = os.path.abspath('../')\n",
    "data_dir = f\"data/SAR-Ship-Dataset/\""
   ]
  },
  {
   "cell_type": "code",
   "execution_count": 5,
   "metadata": {},
   "outputs": [
    {
     "data": {
      "text/plain": [
       "43810"
      ]
     },
     "execution_count": 5,
     "metadata": {},
     "output_type": "execute_result"
    }
   ],
   "source": [
    "# data_dir = \"../data/SAR-Ship-Dataset/\"\n",
    "paths = glob.glob(f'{data_dir}/JPEGImages/*.jpg')\n",
    "\n",
    "ids = [os.path.splitext(os.path.basename(x))[0] for x in paths]\n",
    "# np.save('data/SAR-Ship-Dataset/train_anno.npy', ids[:40000])\n",
    "# np.save('data/SAR-Ship-Dataset/test_anno.npy', ids[40000:])\n",
    "len(ids)"
   ]
  },
  {
   "cell_type": "code",
   "execution_count": 6,
   "metadata": {},
   "outputs": [],
   "source": [
    "from __future__ import division\n",
    "\n",
    "import argparse\n",
    "import os\n",
    "from mmcv import Config\n",
    "\n",
    "from mmdet import __version__\n",
    "from mmdet.datasets import build_dataset\n",
    "from mmdet.apis import (train_detector, init_dist, get_root_logger)\n",
    "from mmdet.models import build_detector\n",
    "import torch\n",
    "\n"
   ]
  },
  {
   "cell_type": "code",
   "execution_count": 7,
   "metadata": {},
   "outputs": [],
   "source": [
    "cfg = mmcv.Config.fromfile(f'configs/pascal_voc/ssd300_voc.py')\n",
    "# cfg.data.train.type = 'SARDataset'\n",
    "# cfg.data.train.ann_file = 'data/SAR-Ship-Dataset/train_anno.npy'\n",
    "# cfg.data.train.img_prefix = 'data/SAR-Ship-Dataset/'\n",
    "cfg.data_root = f\"data/VOCdevkit/\""
   ]
  },
  {
   "cell_type": "code",
   "execution_count": 8,
   "metadata": {},
   "outputs": [],
   "source": [
    "train_dataset = build_dataset(cfg.data.train)\n"
   ]
  },
  {
   "cell_type": "code",
   "execution_count": 14,
   "metadata": {},
   "outputs": [
    {
     "data": {
      "text/plain": [
       "4500"
      ]
     },
     "execution_count": 14,
     "metadata": {},
     "output_type": "execute_result"
    }
   ],
   "source": [
    "len(train_dataset)"
   ]
  },
  {
   "cell_type": "code",
   "execution_count": 13,
   "metadata": {},
   "outputs": [
    {
     "ename": "KeyError",
     "evalue": "'ann'",
     "output_type": "error",
     "traceback": [
      "\u001b[0;31m---------------------------------------------------------------------------\u001b[0m",
      "\u001b[0;31mKeyError\u001b[0m                                  Traceback (most recent call last)",
      "\u001b[0;32m<ipython-input-13-befe93219e8a>\u001b[0m in \u001b[0;36m<module>\u001b[0;34m\u001b[0m\n\u001b[0;32m----> 1\u001b[0;31m \u001b[0mtrain_dataset\u001b[0m\u001b[0;34m.\u001b[0m\u001b[0mdataset\u001b[0m\u001b[0;34m.\u001b[0m\u001b[0mimg_infos\u001b[0m\u001b[0;34m[\u001b[0m\u001b[0;36m0\u001b[0m\u001b[0;34m]\u001b[0m\u001b[0;34m[\u001b[0m\u001b[0;34m'ann'\u001b[0m\u001b[0;34m]\u001b[0m\u001b[0;34m\u001b[0m\u001b[0;34m\u001b[0m\u001b[0m\n\u001b[0m",
      "\u001b[0;31mKeyError\u001b[0m: 'ann'"
     ]
    }
   ],
   "source": [
    "train_dataset.dataset.img_infos[0]['ann']"
   ]
  },
  {
   "cell_type": "code",
   "execution_count": 9,
   "metadata": {
    "scrolled": true
   },
   "outputs": [
    {
     "name": "stderr",
     "output_type": "stream",
     "text": [
      "missing keys in source state_dict: extra.4.bias, extra.6.bias, extra.5.weight, extra.2.weight, extra.0.weight, extra.4.weight, extra.0.bias, extra.3.bias, extra.5.bias, extra.7.bias, extra.6.weight, extra.1.weight, extra.2.bias, extra.7.weight, l2_norm.weight, extra.1.bias, extra.3.weight\n",
      "\n"
     ]
    }
   ],
   "source": [
    "model = build_detector(\n",
    "        cfg.model, train_cfg=cfg.train_cfg, test_cfg=cfg.test_cfg)"
   ]
  }
 ],
 "metadata": {
  "kernelspec": {
   "display_name": "Python 3",
   "language": "python",
   "name": "python3"
  },
  "language_info": {
   "codemirror_mode": {
    "name": "ipython",
    "version": 3
   },
   "file_extension": ".py",
   "mimetype": "text/x-python",
   "name": "python",
   "nbconvert_exporter": "python",
   "pygments_lexer": "ipython3",
   "version": "3.7.3"
  }
 },
 "nbformat": 4,
 "nbformat_minor": 2
}
