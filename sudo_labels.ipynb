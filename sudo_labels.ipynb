{
 "cells": [
  {
   "cell_type": "code",
   "execution_count": 10,
   "metadata": {},
   "outputs": [],
   "source": [
    "import pickle\n",
    "import json\n",
    "from pprint import pprint\n",
    "from mmdet.datasets import VOCTXTDataset\n",
    "import sys"
   ]
  },
  {
   "cell_type": "code",
   "execution_count": 11,
   "metadata": {},
   "outputs": [],
   "source": [
    "data_root = 'data/VOCdevkit/'\n",
    "ann_file=data_root + 'VOC2012/ImageSets/Main/train_unlabeled.txt',\n",
    "img_prefix='data/VOCdevkit/VOC2012/'"
   ]
  },
  {
   "cell_type": "code",
   "execution_count": 12,
   "metadata": {},
   "outputs": [],
   "source": [
    "# !./tools/dist_test.sh configs/pascal_voc/ssd300_voc.py work_dirs/ssd300_voc/epoch_24.pth 8 --out results.pkl --eval bbox"
   ]
  },
  {
   "cell_type": "code",
   "execution_count": 13,
   "metadata": {},
   "outputs": [],
   "source": [
    "def extract_boxes(fname):\n",
    "        with open(fname) as f:\n",
    "            content = f.readlines()\n",
    "            f.close()\n",
    "            content = [x.strip().split(' ') for x in content]\n",
    "            return content"
   ]
  },
  {
   "cell_type": "code",
   "execution_count": 14,
   "metadata": {},
   "outputs": [],
   "source": [
    "# for each image 20xnumber of boxes\n",
    "\n",
    "with open('results.pkl', 'rb') as f:\n",
    "    data = pickle.load(f)"
   ]
  },
  {
   "cell_type": "code",
   "execution_count": 7,
   "metadata": {
    "scrolled": true
   },
   "outputs": [
    {
     "data": {
      "text/plain": [
       "9290"
      ]
     },
     "execution_count": 7,
     "metadata": {},
     "output_type": "execute_result"
    }
   ],
   "source": [
    "# len(data)"
   ]
  },
  {
   "cell_type": "code",
   "execution_count": 16,
   "metadata": {},
   "outputs": [
    {
     "name": "stdout",
     "output_type": "stream",
     "text": [
      "Loading JSON ... ... ... \n",
      "\n",
      " [ 2008_003613 ] 9289 / 9290"
     ]
    }
   ],
   "source": [
    "VOCTXTDataset.CLASSES\n",
    "cat2label = {cat: i for i, cat in enumerate(VOCTXTDataset.CLASSES)}\n",
    "label2cat = {i: cat for  i, cat in enumerate(VOCTXTDataset.CLASSES)}\n",
    "print('Loading JSON ... ... ... \\n')\n",
    "with open('results.pkl.bbox.json') as f:\n",
    "    data = json.load(f)\n",
    "merg = {}\n",
    "for index, pred in enumerate(data):\n",
    "    img_id = pred['image_id']\n",
    "    if not (img_id in merg):\n",
    "        merg[img_id] = list()\n",
    "    merg[img_id].append(pred)\n",
    "\n",
    "files = merg.keys()\n",
    "for index, file in enumerate(files):\n",
    "    line = ''\n",
    "    for box in merg[file]:\n",
    "        if box['category_id'] in label2cat.keys():\n",
    "            category_label = label2cat[box['category_id']] if box['category_id'] in label2cat.keys() else 'background'\n",
    "            bbox = box['bbox']\n",
    "            info = extract_boxes(f'{img_prefix}/Annotations/{file}.txt')\n",
    "            width = int(info[0][1])\n",
    "            height = int(info[0][2])\n",
    "            line = f\"{line}{category_label} {width} {height} 0 {int(bbox[0])} {int(bbox[1])} {int(bbox[0]+bbox[2])} {int(bbox[3]+bbox[1])}\\n\"\n",
    "        else:\n",
    "            print(f\"\\n {box['category_id']} \\n\")\n",
    "            \n",
    "    sys.stdout.write(f\"\\r [ {file} ] {index} / {len(files)}\")\n",
    "    sys.stdout.flush() \n",
    "#     img_id = f\"{pred['image_id']}_psudo_labels\"\n",
    "\n",
    "    f = open(f'{img_prefix}/Annotations/{file}_psudo_labels.txt', 'w')\n",
    "    f.write(line)\n",
    "    f.close()"
   ]
  },
  {
   "cell_type": "code",
   "execution_count": null,
   "metadata": {},
   "outputs": [],
   "source": []
  }
 ],
 "metadata": {
  "kernelspec": {
   "display_name": "Python 3",
   "language": "python",
   "name": "python3"
  },
  "language_info": {
   "codemirror_mode": {
    "name": "ipython",
    "version": 3
   },
   "file_extension": ".py",
   "mimetype": "text/x-python",
   "name": "python",
   "nbconvert_exporter": "python",
   "pygments_lexer": "ipython3",
   "version": "3.7.3"
  }
 },
 "nbformat": 4,
 "nbformat_minor": 2
}
